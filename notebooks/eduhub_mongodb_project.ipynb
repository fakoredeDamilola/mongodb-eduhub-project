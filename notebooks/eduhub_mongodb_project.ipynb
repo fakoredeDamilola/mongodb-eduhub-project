{
 "cells": [
  {
   "cell_type": "markdown",
   "metadata": {},
   "source": [
    "# EduHub MongoDB Project\n",
    "\n",
    "This notebook demonstrates the implementation of MongoDB operations for the EduHub educational platform."
   ]
  },
  {
   "cell_type": "code",
   "execution_count": null,
   "metadata": {},
   "outputs": [],
   "source": [
    "# Import required libraries\n",
    "from eduhub_queries import EduHubDB\n",
    "from datetime import datetime\n",
    "import pandas as pd\n",
    "\n",
    "# Initialize database connection\n",
    "db = EduHubDB()"
   ]
  },
  {
   "cell_type": "markdown",
   "metadata": {},
   "source": [
    "## Part 1: Database Setup and Data Modeling"
   ]
  },
  {
   "cell_type": "code",
   "execution_count": null,
   "metadata": {},
   "outputs": [],
   "source": [
    "# Create indexes for performance optimization\n",
    "db.create_indexes()"
   ]
  },
  {
   "cell_type": "markdown",
   "metadata": {},
   "source": [
    "## Part 2: Data Population"
   ]
  },
  {
   "cell_type": "code",
   "execution_count": null,
   "metadata": {},
   "outputs": [],
   "source": [
    "# Sample users\n",
    "students = [{\n",
    "    \"email\": \"student{}@example.com\".format(i),\n",
    "    \"firstName\": \"Student\",\n",
    "    \"lastName\": \"{}\".format(i),\n",
    "    \"role\": \"student\"\n",
    "} for i in range(1, 11)]\n",
    "\n",
    "instructors = [{\n",
    "    \"email\": \"instructor{}@example.com\".format(i),\n",
    "    \"firstName\": \"Instructor\",\n",
    "    \"lastName\": \"{}\".format(i),\n",
    "    \"role\": \"instructor\",\n",
    "    \"profile\": {\n",
    "        \"bio\": \"Experienced educator in {}\".format(i),\n",
    "        \"skills\": [\"Python\", \"Data Science\", \"Machine Learning\"]\n",
    "    }\n",
    "} for i in range(1, 6)]\n",
    "\n",
    "# Insert users\n",
    "student_ids = [db.add_user(student) for student in students]\n",
    "instructor_ids = [db.add_user(instructor) for instructor in instructors]"
   ]
  },
  {
   "cell_type": "code",
   "execution_count": null,
   "metadata": {},
   "outputs": [],
   "source": [
    "# Sample courses\n",
    "courses = [{\n",
    "    \"title\": \"Course {}\".format(i),\n",
    "    \"description\": \"Description for course {}\".format(i),\n",
    "    \"instructorId\": instructor_ids[i % len(instructor_ids)],\n",
    "    \"category\": \"Category {}\".format(i % 3 + 1),\n",
    "    \"level\": [\"beginner\", \"intermediate\", \"advanced\"][(i-1) % 3],\n",
    "    \"price\": 99.99 * i,\n",
    "    \"tags\": [\"programming\", \"data science\", \"machine learning\"]\n",
    "} for i in range(1, 9)]\n",
    "\n",
    "# Insert courses\n",
    "course_ids = [db.add_course(course) for course in courses]"
   ]
  },
  {
   "cell_type": "markdown",
   "metadata": {},
   "source": [
    "## Part 3: Basic CRUD Operations"
   ]
  },
  {
   "cell_type": "code",
   "execution_count": null,
   "metadata": {},
   "outputs": [],
   "source": [
    "# Create operations\n",
    "# Enroll students in courses\n",
    "for i, student_id in enumerate(student_ids):\n",
    "    course_id = course_ids[i % len(course_ids)]\n",
    "    \n",
    "    db.enroll_student(student_id, course_id)"
   ]
  },
  {
   "cell_type": "code",
   "execution_count": null,
   "metadata": {},
   "outputs": [],
   "source": [
    "# Read operations\n",
    "# Get all active students\n",
    "active_students = list(db.db.users.find({\"role\": \"student\", \"isActive\": True}))\n",
    "pd.DataFrame(active_students)"
   ]
  },
  {
   "cell_type": "code",
   "execution_count": null,
   "metadata": {},
   "outputs": [],
   "source": [
    "# Update operations\n",
    "# Update a user's profile\n",
    "user_id = student_ids[0]\n",
    "updates = {\"profile.bio\": \"Updated bio for student\"}\n",
    "db.update_user_profile(user_id, updates)"
   ]
  },
  {
   "cell_type": "markdown",
   "metadata": {},
   "source": [
    "## Part 4: Advanced Queries and Aggregation"
   ]
  },
  {
   "cell_type": "code",
   "execution_count": null,
   "metadata": {},
   "outputs": [],
   "source": [
    "# Course enrollment statistics\n",
    "enrollment_stats = db.get_course_enrollment_stats()\n",
    "enrollment_stats"
   ]
  },
  {
   "cell_type": "code",
   "execution_count": null,
   "metadata": {},
   "outputs": [],
   "source": [
    "# Complex query: Courses with price between $50 and $200\n",
    "affordable_courses = list(db.db.courses.find({\"price\": {\"$gte\": 50, \"$lte\": 200}}))\n",
    "pd.DataFrame(affordable_courses)"
   ]
  },
  {
   "cell_type": "markdown",
   "metadata": {},
   "source": [
    "## Part 5: Indexing and Performance"
   ]
  },
  {
   "cell_type": "code",
   "execution_count": null,
   "metadata": {},
   "outputs": [],
   "source": [
    "# Check indexes\n",
    "indexes = list(db.db.users.list_indexes())\n",
    "pd.DataFrame(indexes)"
   ]
  },
  {
   "cell_type": "markdown",
   "metadata": {},
   "source": [
    "## Part 6: Data Validation and Error Handling"
   ]
  },
  {
   "cell_type": "code",
   "execution_count": null,
   "metadata": {},
   "outputs": [],
   "source": [
    "\n",
    "try:\n",
    "    invalid_user = {\n",
    "        \"email\": \"invalid-email\",  # Invalid email format\n",
    "        \"firstName\": \"Invalid\",\n",
    "        \"lastName\": \"User\",\n",
    "        \"role\": \"invalid_role\"  # Invalid role\n",
    "    }\n",
    "    db.add_user(invalid_user)\n",
    "except Exception as e:\n",
    "    print(f\"Error: {str(e)}\")"
   ]
  },
  {
   "cell_type": "markdown",
   "metadata": {},
   "source": [
    "## Cleanup\n",
    "\n",
    "```python\n",
    "db.close_connection()\n",
    "```"
   ]
  }
 ],
 "metadata": {
  "kernelspec": {
   "display_name": "Python 3",
   "language": "python",
   "name": "python3"
  },
  "language_info": {
   "codemirror_mode": {
    "name": "ipython",
    "version": 3
   },
   "file_extension": ".py",
   "mimetype": "text/x-python",
   "name": "python",
   "nbconvert_exporter": "python",
   "pygments_lexer": "ipython3",
   "version": "3.8.0"
  }
 },
 "nbformat": 4,
 "nbformat_minor": 4
}
